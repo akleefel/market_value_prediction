{
 "cells": [
  {
   "cell_type": "markdown",
   "metadata": {},
   "source": [
    "# mv_prediction\n",
    "\n",
    "### Overview\n",
    "\n",
    "In this notebook, I use the merged data set created by merge.Rmd, do some cleaning and feature engineering and finally test different machine learning models to predict the players market value. \n",
    "\n",
    "The wrangling and feature engineering is split by features from the transfermarkt.de data set and the fifa data set. The fitting of the machine learning models is at the bottom of this notebook. "
   ]
  },
  {
   "cell_type": "code",
   "execution_count": 1,
   "metadata": {},
   "outputs": [],
   "source": [
    "import pandas as pd\n",
    "import numpy as np\n",
    "from datetime import datetime\n",
    "from sklearn.tree import DecisionTreeRegressor\n",
    "from sklearn.ensemble import RandomForestRegressor, GradientBoostingRegressor\n",
    "from sklearn.model_selection import train_test_split, GridSearchCV, cross_val_score, ShuffleSplit"
   ]
  },
  {
   "cell_type": "code",
   "execution_count": 14,
   "metadata": {},
   "outputs": [],
   "source": [
    "players_df = pd.read_csv(\"../results/players_merged.csv\", encoding = \"utf-8\", low_memory = False )"
   ]
  },
  {
   "cell_type": "markdown",
   "metadata": {},
   "source": [
    "## Cleaning Tranfermarkt.de Data"
   ]
  },
  {
   "cell_type": "code",
   "execution_count": 15,
   "metadata": {},
   "outputs": [],
   "source": [
    "#deriving birth_month\n",
    "players_df['birth_month'] = players_df.apply(lambda row: row['Geburtsdatum.'][5:7],axis=1)"
   ]
  },
  {
   "cell_type": "code",
   "execution_count": 16,
   "metadata": {},
   "outputs": [],
   "source": [
    "#deriving days_on_team\n",
    "players_df['current_date'] = datetime.now()\n",
    "players_df.loc[players_df['Im.Team.seit.'] == '-', 'Im.Team.seit.'] = '01.01.1900'\n",
    "players_df['Im.Team.seit.'] = players_df['Im.Team.seit.'].fillna('01.01.1900')\n",
    "players_df['days_on_team'] = players_df.apply(lambda row: row['current_date'] - datetime.strptime(row['Im.Team.seit.'],'%d.%m.%Y') , axis = 1)\n",
    "players_df['days_on_team'] = players_df['days_on_team'].astype('timedelta64[D]')\n",
    "players_df.loc[players_df['days_on_team'] > 30000, 'days_on_team'] = None"
   ]
  },
  {
   "cell_type": "code",
   "execution_count": 17,
   "metadata": {},
   "outputs": [],
   "source": [
    "#deriving days_contr_end\n",
    "players_df.loc[players_df['Vertrag.bis.'] == '-', 'Vertrag.bis.'] = '01.01.1900'\n",
    "players_df['Vertrag.bis.'] = players_df['Vertrag.bis.'].fillna('01.01.1900')\n",
    "players_df['days_contr_end'] = players_df.apply(lambda row: datetime.strptime(row['Vertrag.bis.'],'%d.%m.%Y') - row['current_date'], axis = 1)\n",
    "players_df['days_contr_end'] = players_df['days_contr_end'].astype('timedelta64[D]')\n",
    "players_df.loc[players_df['days_contr_end'] < -10, 'days_contr_end'] = None"
   ]
  },
  {
   "cell_type": "code",
   "execution_count": 19,
   "metadata": {},
   "outputs": [],
   "source": [
    "#deriving days_since_contr\n",
    "players_df['Letzte.Vertragsverlängerung.'] =  players_df['Letzte.Vertragsverlängerung.'].fillna('01.01.1900')\n",
    "players_df['days_since_contr'] = players_df.apply(lambda row: row['current_date'] - datetime.strptime(row['Letzte.Vertragsverlängerung.'],'%d.%m.%Y') , axis = 1)\n",
    "players_df['days_since_contr'] = players_df['days_since_contr'].astype('timedelta64[D]')\n",
    "players_df.loc[players_df['days_since_contr'] < -10, 'days_since_contr'] = None"
   ]
  },
  {
   "cell_type": "code",
   "execution_count": 20,
   "metadata": {},
   "outputs": [],
   "source": [
    "#deriving player_agent bool\n",
    "players_df['Spielerberater.'] =  players_df['Spielerberater.'].fillna(False)\n",
    "players_df.loc[players_df['Spielerberater.'] != False, 'Spielerberater.'] = True"
   ]
  },
  {
   "cell_type": "code",
   "execution_count": 21,
   "metadata": {},
   "outputs": [],
   "source": [
    "#changing integer columns \n",
    "players_df['Größe.'] = players_df['Größe.'].str.replace(\"m\", \"\")\n",
    "players_df['Größe.'] = players_df['Größe.'].str.replace(\",\", \".\")\n",
    "players_df['Größe.'] = players_df['Größe.'].astype(float)"
   ]
  },
  {
   "cell_type": "code",
   "execution_count": 22,
   "metadata": {},
   "outputs": [],
   "source": [
    "#moving TM information to beginning of df\n",
    "cols = list(players_df)\n",
    "cols_removed = list(players_df)\n",
    "move_cols = [\"Schuhgröße.\", 'X2.Verein.', 'Vertragsoption.', 'Ausgeliehen.von.', 'name_length', 'birth_month', \n",
    " 'current_date', 'days_on_team', 'days_contr_end', 'days_since_contr']\n",
    "\n",
    "for element in cols:\n",
    "    if (element in move_cols):\n",
    "        cols_removed.remove(element)\n",
    "               \n",
    "cols = move_cols + cols_removed \n",
    "players_df = players_df[cols]"
   ]
  },
  {
   "cell_type": "code",
   "execution_count": 23,
   "metadata": {},
   "outputs": [],
   "source": [
    "#in performance data replace all na's with 0 \n",
    "players_df.iloc[:,33:3787] =  players_df.iloc[:,33:3787].fillna(0)"
   ]
  },
  {
   "cell_type": "code",
   "execution_count": 24,
   "metadata": {},
   "outputs": [],
   "source": [
    "# in performance data replace all str with int \n",
    "players_df.iloc[:,33:3787] = players_df.iloc[:,33:3787].replace('-',0)\n",
    "players_df.iloc[:,33:3787] = players_df.iloc[:,33:3787].replace('\\.','', regex = True)\n",
    "players_df.iloc[:,33:3787] = players_df.iloc[:,33:3787].astype(int)"
   ]
  },
  {
   "cell_type": "code",
   "execution_count": 25,
   "metadata": {},
   "outputs": [],
   "source": [
    "# changing market value to correct format\n",
    "players_df['current_mv'] = players_df['current_mv'].replace('-',0)\n",
    "players_df['current_mv'] = players_df['current_mv'].fillna(0)\n",
    "players_df['current_mv'] = players_df['current_mv'].replace(',00 Mio.','000000', regex = True)\n",
    "players_df['current_mv'] = players_df['current_mv'].replace(',','', regex = True)\n",
    "players_df['current_mv'] = players_df['current_mv'].replace(' Mio.','0000', regex = True)\n",
    "players_df['current_mv'] = players_df['current_mv'].replace(' Tsd.','000', regex = True)\n",
    "players_df['current_mv'] = players_df['current_mv'].replace(' .*','', regex = True)\n",
    "players_df['current_mv'] = players_df['current_mv'].astype(int)\n",
    "players_df['highest_mv'] = players_df['highest_mv'].replace('-',0)\n",
    "players_df['highest_mv'] = players_df['highest_mv'].fillna(0)\n",
    "players_df['highest_mv'] = players_df['highest_mv'].replace('', 0)\n",
    "players_df['highest_mv'] = players_df['highest_mv'].replace(',00 Mio.','000000', regex = True)\n",
    "players_df['highest_mv'] = players_df['highest_mv'].replace(',','', regex = True)\n",
    "players_df['highest_mv'] = players_df['highest_mv'].replace(' Mio.','0000', regex = True)\n",
    "players_df['highest_mv'] = players_df['highest_mv'].replace(' Tsd.','000', regex = True)\n",
    "players_df['highest_mv'] = players_df['highest_mv'].replace(' .*','', regex = True)\n",
    "players_df['highest_mv'] = players_df['highest_mv'].astype(int)"
   ]
  },
  {
   "cell_type": "code",
   "execution_count": 26,
   "metadata": {},
   "outputs": [],
   "source": [
    "#removing duplicate and unneccessary columns \n",
    "drop_cols = ['name_length','current_date','Unnamed: 0','X',\n",
    "             'Geburtsdatum.','Vollständiger.Name.','Im.Team.seit.',\n",
    "             'Vertrag.bis.','Letzte.Vertragsverlängerung.', 'Vertragsoption.',\n",
    "            'Name.im.Heimatland.']\n",
    "\n",
    "players_df.drop(drop_cols, axis = 1, inplace=True)"
   ]
  },
  {
   "cell_type": "markdown",
   "metadata": {
    "collapsed": true
   },
   "source": [
    "## FIFA DATA "
   ]
  },
  {
   "cell_type": "code",
   "execution_count": 27,
   "metadata": {},
   "outputs": [
    {
     "name": "stderr",
     "output_type": "stream",
     "text": [
      "/anaconda3/lib/python3.6/site-packages/ipykernel_launcher.py:1: FutureWarning: Method .as_matrix will be removed in a future version. Use .values instead.\n",
      "  \"\"\"Entry point for launching an IPython kernel.\n"
     ]
    }
   ],
   "source": [
    "y = players_df['current_mv'].as_matrix()"
   ]
  },
  {
   "cell_type": "code",
   "execution_count": 28,
   "metadata": {},
   "outputs": [],
   "source": [
    "#removing unneccessary columns\n",
    "drop_cols = ['ID', 'name', 'full_name', 'club', 'club_logo',\n",
    "             'special', 'age', 'league', 'height_cm', 'real_face',\n",
    "             'flag', 'nationality', 'photo', 'eur_value', 'eur_wage',\n",
    "             'eur_release_clause','real_face', 'flag', 'nationality',\n",
    "             'photo', 'eur_value', 'eur_wage', 'eur_release_clause','X2.Verein.',\n",
    "            'highest_mv', 'current_mv', 'player_name', 'X.1']\n",
    "\n",
    "players_df.drop(drop_cols, axis = 1, inplace=True)"
   ]
  },
  {
   "cell_type": "code",
   "execution_count": 29,
   "metadata": {},
   "outputs": [],
   "source": [
    "players_df['Social.Media.']= players_df['Social.Media.'].fillna(0)"
   ]
  },
  {
   "cell_type": "code",
   "execution_count": 30,
   "metadata": {},
   "outputs": [],
   "source": [
    "#create one-hot-encoding for categorical variables \n",
    "\n",
    "one_hot = pd.get_dummies(players_df[['Schuhgröße.','body_type','work_rate_att','work_rate_def','preferred_foot','Ausrüster.', 'Schuhmodell.', 'Ausgeliehen.von.','Geburtsort.',\n",
    "                                    'Nationalität.', 'Position.', 'Fuß.', 'Spielerberater.', 'Aktueller.Verein.',\n",
    "                                    'gk', '1_on_1_rush_trait', 'acrobatic_clearance_trait', 'argues_with_officials_trait',\n",
    "                                    'avoids_using_weaker_foot_trait', 'backs_into_player_trait', 'bicycle_kicks_trait',\n",
    "                                    'cautious_with_crosses_trait', 'chip_shot_trait', 'chipped_penalty_trait', 'comes_for_crosses_trait',\n",
    "                                    'corner_specialist_trait', 'diver_trait','dives_into_tackles_trait','diving_header_trait','driven_pass_trait',\n",
    " 'early_crosser_trait',\n",
    " \"fan's_favourite_trait\",\n",
    " 'fancy_flicks_trait',\n",
    " 'finesse_shot_trait',\n",
    " 'flair_trait',\n",
    " 'flair_passes_trait',\n",
    " 'gk_flat_kick_trait',\n",
    " 'gk_long_throw_trait',\n",
    " 'gk_up_for_corners_trait',\n",
    " 'giant_throw_in_trait',\n",
    " 'inflexible_trait',\n",
    " 'injury_free_trait',\n",
    " 'injury_prone_trait',\n",
    " 'leadership_trait',\n",
    " 'long_passer_trait',\n",
    " 'long_shot_taker_trait',\n",
    " 'long_throw_in_trait',\n",
    " 'one_club_player_trait',\n",
    " 'outside_foot_shot_trait',\n",
    " 'playmaker_trait',\n",
    " 'power_free_kick_trait',\n",
    " 'power_header_trait',\n",
    " 'puncher_trait',\n",
    " 'rushes_out_of_goal_trait',\n",
    " 'saves_with_feet_trait',\n",
    " 'second_wind_trait',\n",
    " 'selfish_trait',\n",
    " 'skilled_dribbling_trait',\n",
    " 'stutter_penalty_trait',\n",
    " 'swerve_pass_trait',\n",
    " 'takes_finesse_free_kicks_trait',\n",
    " 'target_forward_trait',\n",
    " 'team_player_trait',\n",
    " 'technical_dribbler_trait',\n",
    " 'tries_to_beat_defensive_line_trait',\n",
    " 'poacher_speciality',\n",
    " 'speedster_speciality',\n",
    " 'aerial_threat_speciality',\n",
    " 'dribbler_speciality',\n",
    " 'playmaker_speciality',\n",
    " 'engine_speciality',\n",
    " 'distance_shooter_speciality',\n",
    " 'crosser_speciality',\n",
    " 'free_kick_specialist_speciality',\n",
    " 'tackling_speciality',\n",
    " 'tactician_speciality',\n",
    " 'acrobat_speciality',\n",
    " 'strength_speciality',\n",
    " 'clinical_finisher_speciality',\n",
    " 'prefers_rs',\n",
    " 'prefers_rw',\n",
    " 'prefers_rf',\n",
    " 'prefers_ram',\n",
    " 'prefers_rcm',\n",
    " 'prefers_rm',\n",
    " 'prefers_rdm',\n",
    " 'prefers_rcb',\n",
    " 'prefers_rb',\n",
    " 'prefers_rwb',\n",
    " 'prefers_st',\n",
    " 'prefers_lw',\n",
    " 'prefers_cf',\n",
    " 'prefers_cam',\n",
    " 'prefers_cm',\n",
    " 'prefers_lm',\n",
    " 'prefers_cdm',\n",
    " 'prefers_cb',\n",
    " 'prefers_lb',\n",
    " 'prefers_lwb',\n",
    " 'prefers_ls',\n",
    " 'prefers_lf',\n",
    " 'prefers_lam',\n",
    " 'prefers_lcm',\n",
    " 'prefers_ldm',\n",
    " 'prefers_lcb',\n",
    " 'prefers_gk']])\n",
    "\n",
    "\n",
    "\n",
    "\n",
    "\n",
    "players_df = players_df.drop(['Schuhgröße.','body_type','work_rate_att','work_rate_def','preferred_foot','Ausrüster.', 'Schuhmodell.', 'Ausgeliehen.von.','Geburtsort.',\n",
    "                                    'Nationalität.', 'Position.', 'Fuß.', 'Spielerberater.', 'Aktueller.Verein.',\n",
    "                                    'gk', '1_on_1_rush_trait', 'acrobatic_clearance_trait', 'argues_with_officials_trait',\n",
    "                                    'avoids_using_weaker_foot_trait', 'backs_into_player_trait', 'bicycle_kicks_trait',\n",
    "                                    'cautious_with_crosses_trait', 'chip_shot_trait', 'chipped_penalty_trait', 'comes_for_crosses_trait',\n",
    "                                    'corner_specialist_trait', 'diver_trait',\n",
    " 'dives_into_tackles_trait',\n",
    " 'diving_header_trait',\n",
    " 'driven_pass_trait',\n",
    " 'early_crosser_trait',\n",
    " \"fan's_favourite_trait\",\n",
    " 'fancy_flicks_trait',\n",
    " 'finesse_shot_trait',\n",
    " 'flair_trait',\n",
    " 'flair_passes_trait',\n",
    " 'gk_flat_kick_trait',\n",
    " 'gk_long_throw_trait',\n",
    " 'gk_up_for_corners_trait',\n",
    " 'giant_throw_in_trait',\n",
    " 'inflexible_trait',\n",
    " 'injury_free_trait',\n",
    " 'injury_prone_trait',\n",
    " 'leadership_trait',\n",
    " 'long_passer_trait',\n",
    " 'long_shot_taker_trait',\n",
    " 'long_throw_in_trait',\n",
    " 'one_club_player_trait',\n",
    " 'outside_foot_shot_trait',\n",
    " 'playmaker_trait',\n",
    " 'power_free_kick_trait',\n",
    " 'power_header_trait',\n",
    " 'puncher_trait',\n",
    " 'rushes_out_of_goal_trait',\n",
    " 'saves_with_feet_trait',\n",
    " 'second_wind_trait',\n",
    " 'selfish_trait',\n",
    " 'skilled_dribbling_trait',\n",
    " 'stutter_penalty_trait',\n",
    " 'swerve_pass_trait',\n",
    " 'takes_finesse_free_kicks_trait',\n",
    " 'target_forward_trait',\n",
    " 'team_player_trait',\n",
    " 'technical_dribbler_trait',\n",
    " 'tries_to_beat_defensive_line_trait',\n",
    " 'poacher_speciality',\n",
    " 'speedster_speciality',\n",
    " 'aerial_threat_speciality',\n",
    " 'dribbler_speciality',\n",
    " 'playmaker_speciality',\n",
    " 'engine_speciality',\n",
    " 'distance_shooter_speciality',\n",
    " 'crosser_speciality',\n",
    " 'free_kick_specialist_speciality',\n",
    " 'tackling_speciality',\n",
    " 'tactician_speciality',\n",
    " 'acrobat_speciality',\n",
    " 'strength_speciality',\n",
    " 'clinical_finisher_speciality',\n",
    " 'prefers_rs',\n",
    " 'prefers_rw',\n",
    " 'prefers_rf',\n",
    " 'prefers_ram',\n",
    " 'prefers_rcm',\n",
    " 'prefers_rm',\n",
    " 'prefers_rdm',\n",
    " 'prefers_rcb',\n",
    " 'prefers_rb',\n",
    " 'prefers_rwb',\n",
    " 'prefers_st',\n",
    " 'prefers_lw',\n",
    " 'prefers_cf',\n",
    " 'prefers_cam',\n",
    " 'prefers_cm',\n",
    " 'prefers_lm',\n",
    " 'prefers_cdm',\n",
    " 'prefers_cb',\n",
    " 'prefers_lb',\n",
    " 'prefers_lwb',\n",
    " 'prefers_ls',\n",
    " 'prefers_lf',\n",
    " 'prefers_lam',\n",
    " 'prefers_lcm',\n",
    " 'prefers_ldm',\n",
    " 'prefers_lcb',\n",
    " 'prefers_gk'], axis = 1 )\n",
    "players_df = players_df.join(one_hot)"
   ]
  },
  {
   "cell_type": "code",
   "execution_count": 31,
   "metadata": {},
   "outputs": [],
   "source": [
    "X = players_df\n",
    "X = X.fillna(0)"
   ]
  },
  {
   "cell_type": "markdown",
   "metadata": {},
   "source": [
    "## Calibrating Random Forest Regressor"
   ]
  },
  {
   "cell_type": "code",
   "execution_count": 32,
   "metadata": {},
   "outputs": [],
   "source": [
    "X_train, X_validate, y_train, y_validate = train_test_split(X, y, test_size=0.2)"
   ]
  },
  {
   "cell_type": "code",
   "execution_count": 33,
   "metadata": {},
   "outputs": [],
   "source": [
    "n_estimators = np.arange(start=50,stop=200,step=10)\n",
    "max_features = np.arange(start=1000,stop=2500,step=100)"
   ]
  },
  {
   "cell_type": "code",
   "execution_count": 34,
   "metadata": {},
   "outputs": [],
   "source": [
    "splitted = ShuffleSplit(n_splits=3,test_size=.15)"
   ]
  },
  {
   "cell_type": "code",
   "execution_count": 35,
   "metadata": {},
   "outputs": [
    {
     "data": {
      "text/plain": [
       "GridSearchCV(cv=ShuffleSplit(n_splits=3, random_state=None, test_size=0.15, train_size=None),\n",
       "       error_score='raise',\n",
       "       estimator=RandomForestRegressor(bootstrap=True, criterion='mse', max_depth=None,\n",
       "           max_features='auto', max_leaf_nodes=None,\n",
       "           min_impurity_decrease=0.0, min_impurity_split=None,\n",
       "           min_samples_leaf=1, min_samples_split=2,\n",
       "           min_weight_fraction_leaf=0.0, n_estimators=10, n_jobs=1,\n",
       "           oob_score=False, random_state=None, verbose=0, warm_start=False),\n",
       "       fit_params=None, iid=True, n_jobs=1,\n",
       "       param_grid={'n_estimators': array([ 50,  60,  70,  80,  90, 100, 110, 120, 130, 140, 150, 160, 170,\n",
       "       180, 190]), 'max_features': array([1000, 1100, 1200, 1300, 1400, 1500, 1600, 1700, 1800, 1900, 2000,\n",
       "       2100, 2200, 2300, 2400])},\n",
       "       pre_dispatch='2*n_jobs', refit=True, return_train_score='warn',\n",
       "       scoring=None, verbose=0)"
      ]
     },
     "execution_count": 35,
     "metadata": {},
     "output_type": "execute_result"
    }
   ],
   "source": [
    "rf = RandomForestRegressor()\n",
    "parameters = {'n_estimators':n_estimators,'max_features':max_features}\n",
    "tune = GridSearchCV(rf,parameters,cv=splitted)\n",
    "tune.fit(X_train, y_train)"
   ]
  },
  {
   "cell_type": "code",
   "execution_count": 36,
   "metadata": {},
   "outputs": [
    {
     "data": {
      "text/plain": [
       "{'max_features': 1800, 'n_estimators': 70}"
      ]
     },
     "execution_count": 36,
     "metadata": {},
     "output_type": "execute_result"
    }
   ],
   "source": [
    "tune.best_params_"
   ]
  },
  {
   "cell_type": "code",
   "execution_count": 37,
   "metadata": {},
   "outputs": [
    {
     "data": {
      "text/plain": [
       "0.7181772580237318"
      ]
     },
     "execution_count": 37,
     "metadata": {},
     "output_type": "execute_result"
    }
   ],
   "source": [
    "tune.best_score_"
   ]
  },
  {
   "cell_type": "code",
   "execution_count": 39,
   "metadata": {},
   "outputs": [
    {
     "data": {
      "text/plain": [
       "0.7454168258810545"
      ]
     },
     "execution_count": 39,
     "metadata": {},
     "output_type": "execute_result"
    }
   ],
   "source": [
    "tune.score(X_validate, y_validate)"
   ]
  },
  {
   "cell_type": "markdown",
   "metadata": {},
   "source": [
    "## Calibrating Gradient Boosting Regressor"
   ]
  },
  {
   "cell_type": "code",
   "execution_count": 40,
   "metadata": {},
   "outputs": [],
   "source": [
    "n_estimators = np.arange(start=100,stop=220,step=20)\n",
    "max_features = np.arange(start=1,stop=3000,step=500)"
   ]
  },
  {
   "cell_type": "code",
   "execution_count": 41,
   "metadata": {
    "scrolled": true
   },
   "outputs": [
    {
     "data": {
      "text/plain": [
       "GridSearchCV(cv=3, error_score='raise',\n",
       "       estimator=GradientBoostingRegressor(alpha=0.9, criterion='friedman_mse', init=None,\n",
       "             learning_rate=0.1, loss='ls', max_depth=3, max_features=None,\n",
       "             max_leaf_nodes=None, min_impurity_decrease=0.0,\n",
       "             min_impurity_split=None, min_samples_leaf=1,\n",
       "             min_samples_split=2, min_weight_fraction_leaf=0.0,\n",
       "             n_estimators=100, presort='auto', random_state=None,\n",
       "             subsample=1.0, verbose=0, warm_start=False),\n",
       "       fit_params=None, iid=True, n_jobs=1,\n",
       "       param_grid={'max_features': array([   1,  501, 1001, 1501, 2001, 2501]), 'n_estimators': array([100, 120, 140, 160, 180, 200]), 'max_depth': [2, 3, 4], 'learning_rate': [0.1, 0.2, 0.3, 0.4]},\n",
       "       pre_dispatch='2*n_jobs', refit=True, return_train_score='warn',\n",
       "       scoring=None, verbose=0)"
      ]
     },
     "execution_count": 41,
     "metadata": {},
     "output_type": "execute_result"
    }
   ],
   "source": [
    "gbr = GradientBoostingRegressor()\n",
    "parameters = {'max_features':max_features,'n_estimators':n_estimators,'max_depth':[2,3,4],'learning_rate':[0.1,0.2,0.3,0.4]}\n",
    "tune_gbr = GridSearchCV(gbr,parameters,cv=3)\n",
    "tune_gbr.fit(X_train, y_train)"
   ]
  },
  {
   "cell_type": "code",
   "execution_count": 42,
   "metadata": {},
   "outputs": [
    {
     "data": {
      "text/plain": [
       "{'learning_rate': 0.1,\n",
       " 'max_depth': 3,\n",
       " 'max_features': 2501,\n",
       " 'n_estimators': 120}"
      ]
     },
     "execution_count": 42,
     "metadata": {},
     "output_type": "execute_result"
    }
   ],
   "source": [
    "tune_gbr.best_params_"
   ]
  },
  {
   "cell_type": "code",
   "execution_count": 43,
   "metadata": {},
   "outputs": [
    {
     "data": {
      "text/plain": [
       "0.7723431100511273"
      ]
     },
     "execution_count": 43,
     "metadata": {},
     "output_type": "execute_result"
    }
   ],
   "source": [
    "tune_gbr.best_score_"
   ]
  },
  {
   "cell_type": "code",
   "execution_count": 44,
   "metadata": {},
   "outputs": [
    {
     "data": {
      "text/plain": [
       "0.762497395215115"
      ]
     },
     "execution_count": 44,
     "metadata": {},
     "output_type": "execute_result"
    }
   ],
   "source": [
    "tune_gbr.score(X_validate,y_validate)"
   ]
  },
  {
   "cell_type": "code",
   "execution_count": 201,
   "metadata": {},
   "outputs": [
    {
     "name": "stderr",
     "output_type": "stream",
     "text": [
      "C:\\Users\\Akleefel\\Anaconda3\\lib\\site-packages\\ipykernel_launcher.py:3: FutureWarning: get_value is deprecated and will be removed in a future release. Please use .at[] or .iat[] accessors instead\n",
      "  This is separate from the ipykernel package so we can avoid doing imports until\n"
     ]
    }
   ],
   "source": [
    "#chunk to find location of specific values in data frame\n",
    "for row in range(0,3272): # df is the DataFrame\n",
    "         for col in list(players_df):\n",
    "             if players_df.get_value(row,col) == '':\n",
    "                    print(row, col)\n",
    "                    break"
   ]
  },
  {
   "cell_type": "code",
   "execution_count": null,
   "metadata": {
    "collapsed": true
   },
   "outputs": [],
   "source": []
  }
 ],
 "metadata": {
  "kernelspec": {
   "display_name": "Python 3",
   "language": "python",
   "name": "python3"
  },
  "language_info": {
   "codemirror_mode": {
    "name": "ipython",
    "version": 3
   },
   "file_extension": ".py",
   "mimetype": "text/x-python",
   "name": "python",
   "nbconvert_exporter": "python",
   "pygments_lexer": "ipython3",
   "version": "3.6.5"
  }
 },
 "nbformat": 4,
 "nbformat_minor": 2
}
